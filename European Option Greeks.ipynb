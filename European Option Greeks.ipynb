{
 "cells": [
  {
   "cell_type": "markdown",
   "metadata": {},
   "source": [
    "# Greeks calculator for European Options"
   ]
  },
  {
   "cell_type": "markdown",
   "metadata": {},
   "source": [
    "This notebook aims to be a simple tool to compute the greeks of european options through the analytical method. The code is based on that developed in C++ in the website [quantstart.com](quantstart.com), though adapted to Python language."
   ]
  },
  {
   "cell_type": "markdown",
   "metadata": {},
   "source": [
    "**Disclaimer: I am not the owner of the piece of code shown below. For more information, refer to the website mentioned before.**"
   ]
  },
  {
   "cell_type": "markdown",
   "metadata": {},
   "source": [
    "When trading with derivative products, tackling risk management over the open positions is an important part of the job. Hedging requirements may vary depending on the risk amount the investor wishes to assume. The so-called *Greeks* come in handy at this task, as they measure the sensitivity of the price of a derivative upon changes in the parameters affecting the underlying, such as the price, volatility and time to maturity. In particular, the existence of an analytical solution of the Black-Scholes equation for European options makes possible to derive the Greeks of these options in an analytical manner too. However, when there is no analytical solution, we have to draw upon other methods such as MonteCarlo simulation to compute these values."
   ]
  },
  {
   "cell_type": "markdown",
   "metadata": {},
   "source": [
    "## Analytical method"
   ]
  },
  {
   "cell_type": "markdown",
   "metadata": {},
   "source": [
    "- **Delta ($\\Delta$)**: rate of change of the option premium with respect to the spot price of the underlying: $\\frac{\\partial{C}}{\\partial{S}}$\n",
    "- **Gamma ($\\Gamma$)**: rate of change of the Delta with respect to the spot prince of the underlying: $\\frac{\\partial{}}{\\partial{S}}\\left(\\frac{\\partial{C}}{\\partial{S}}\\right)$\n",
    "- **Vega**: rate of change of the option premium with respect to the volatility of the underlying: $\\frac{\\partial{C}}{\\partial{\\sigma}}$\n",
    "- **Theta ($\\Theta$)**: negative derivative of the option premium with respect to the time to maturity: $\\frac{\\partial{C}}{\\partial{t}}$\n",
    "- **Rho (P)**: derivative of the option premium with respect to the risk-free rate: $\\frac{\\partial{C}}{\\partial{r}}$"
   ]
  },
  {
   "cell_type": "code",
   "execution_count": 1,
   "metadata": {},
   "outputs": [],
   "source": [
    "from math import exp, sqrt, log, pi"
   ]
  },
  {
   "cell_type": "code",
   "execution_count": 2,
   "metadata": {},
   "outputs": [],
   "source": [
    "def normpdf(x):\n",
    "    return (1.0/sqrt(2*pi)*exp(-0.5*x*x))"
   ]
  },
  {
   "cell_type": "code",
   "execution_count": 3,
   "metadata": {},
   "outputs": [],
   "source": [
    "def normcdf(x):\n",
    "    k = 1.0/(1.0 + 0.2316419*x)\n",
    "    ksum = k*(0.319381530 + k*(-0.356563782 + k*(1.781477937 + k*(-1.821255978 + 1.330274429*k))))\n",
    "    \n",
    "    if x >= 0.0:\n",
    "        return (1.0 - (1.0/sqrt(2*pi))*exp(-0.5*x*x) * ksum)\n",
    "    elif x < 0.0: \n",
    "        return 1.0 - normcdf(-x)"
   ]
  },
  {
   "cell_type": "code",
   "execution_count": 4,
   "metadata": {},
   "outputs": [],
   "source": [
    "def di(i, Expiry, Strike, Spot, Vol, r):\n",
    "    return (log(Spot/Strike) + (r + ((-1)**(i-1)*0.5*Vol*Vol)*Expiry)/(Vol*sqrt(Expiry)))"
   ]
  },
  {
   "cell_type": "code",
   "execution_count": 5,
   "metadata": {},
   "outputs": [],
   "source": [
    "def callPrice(Expiry, Strike, Spot, Vol, r):\n",
    "    return (Spot * normcdf(di(1, Expiry, Strike, Spot, Vol, r))-Strike*exp(-r*Expiry) * normcdf(di(2, Expiry, Strike, Spot, Vol, r)))\n",
    "\n",
    "def callDelta(Expiry, Strike, Spot, Vol, r):\n",
    "    return (normcdf(di(1, Expiry, Strike, Spot, Vol, r)))\n",
    "\n",
    "def callGamma(Expiry, Strike, Spot, Vol, r):\n",
    "    return (normpdf(di(1, Expiry, Strike, Spot, Vol, r))/(Spot*Vol*sqrt(Expiry)))\n",
    "\n",
    "def callVega(Expiry, Strike, Spot, Vol, r):\n",
    "    return Spot*normpdf(di(1, Expiry, Strike, Spot, Vol, r))*sqrt(Expiry)\n",
    "\n",
    "def callTheta(Expiry, Strike, Spot, Vol, r):\n",
    "    return -(Spot*normpdf(di(1, Expiry, Strike, Spot, Vol, r))*Vol)/(2*sqrt(Expiry)) - r*Strike*exp(-r*Expiry)*normcdf(di(2, Expiry, Strike, Spot, Vol, r))\n",
    "\n",
    "def callRho(Expiry, Strike, Spot, Vol, r):\n",
    "    return Strike*Expiry*exp(-r*Expiry)*normcdf(di(2, Expiry, Strike, Spot, Vol, r))"
   ]
  },
  {
   "cell_type": "code",
   "execution_count": 6,
   "metadata": {},
   "outputs": [],
   "source": [
    "def putPrice(Expiry, Strike, Spot, Vol, r):\n",
    "    return (-Spot*normcdf(-di(1, Expiry, Strike, Spot, Vol, r))+Spot*exp(-r*Expiry)*normcdf(-di(2, Expiry, Strike, Spot, Vol, r)))\n",
    "\n",
    "def putDelta(Expiry, Strike, Spot, Vol, r):\n",
    "    return (normcdf(di(1, Expiry, Strike, Spot, Vol, r)) - 1)\n",
    "\n",
    "def putGamma(Expiry, Strike, Spot, Vol, r):\n",
    "    return (normpdf(di(1, Expiry, Strike, Spot, Vol, r))/(Spot*Vol*sqrt(Expiry)))\n",
    "\n",
    "def putVega(Expiry, Strike, Spot, Vol, r):\n",
    "    return Spot*normpdf(di(1, Expiry, Strike, Spot, Vol, r))*sqrt(Expiry)\n",
    "\n",
    "def putTheta(Expiry, Strike, Spot, Vol, r):\n",
    "    return (-(Spot*normpdf(di(1, Expiry, Strike, Spot, Vol, r))*Vol)/(2*sqrt(Expiry)) + r*Strike*exp(-r*Expiry)*normcdf(-di(2, Expiry, Strike, Spot, Vol, r)))\n",
    "\n",
    "def putRho(Expiry, Strike, Spot, Vol, r):\n",
    "    return -Expiry*Strike*exp(-r*Expiry)*normcdf(-di(2, Expiry, Strike, Spot, Vol, r))"
   ]
  },
  {
   "cell_type": "code",
   "execution_count": 7,
   "metadata": {},
   "outputs": [
    {
     "name": "stdout",
     "output_type": "stream",
     "text": [
      "Call Price: 10.45058\n",
      "Call Delta: 0.63683\n",
      "Call Gamma: 0.01876\n",
      "Call Vega: 37.52403\n",
      "Call Theta: -6.41403\n",
      "Call Rho: 53.23248\n"
     ]
    }
   ],
   "source": [
    "Expiry = 1\n",
    "Strike = 100\n",
    "Spot = 100\n",
    "Volatility = 0.2\n",
    "r = 0.05\n",
    "\n",
    "callPrice = callPrice(Expiry, Strike, Spot, Volatility, r)\n",
    "callDelta = callDelta(Expiry, Strike, Spot, Volatility, r)\n",
    "callGamma = callGamma(Expiry, Strike, Spot, Volatility, r)\n",
    "callVega = callVega(Expiry, Strike, Spot, Volatility, r)\n",
    "callTheta = callTheta(Expiry, Strike, Spot, Volatility, r)\n",
    "callRho = callRho(Expiry, Strike, Spot, Volatility, r)\n",
    "\n",
    "print(f'Call Price: {round(callPrice, 5)}')\n",
    "print(f'Call Delta: {round(callDelta, 5)}')\n",
    "print(f'Call Gamma: {round(callGamma, 5)}')\n",
    "print(f'Call Vega: {round(callVega, 5)}')\n",
    "print(f'Call Theta: {round(callTheta, 5)}')\n",
    "print(f'Call Rho: {round(callRho, 5)}')"
   ]
  },
  {
   "cell_type": "code",
   "execution_count": 8,
   "metadata": {},
   "outputs": [
    {
     "name": "stdout",
     "output_type": "stream",
     "text": [
      "Put price: 5.57352\n",
      "Put Delta: -0.36317\n",
      "Put Gamma: 0.01876\n",
      "Put Vega: 37.52403\n",
      "Put Theta: -1.65788\n",
      "Put Rho: -41.89046\n"
     ]
    }
   ],
   "source": [
    "putPrice = putPrice(Expiry, Strike, Spot, Volatility, r)\n",
    "putDelta = putDelta(Expiry, Strike, Spot, Volatility, r)\n",
    "putGamma = putGamma(Expiry, Strike, Spot, Volatility, r)\n",
    "putVega = putVega(Expiry, Strike, Spot, Volatility, r)\n",
    "putTheta = putTheta(Expiry, Strike, Spot, Volatility, r)\n",
    "putRho = putRho(Expiry, Strike, Spot, Volatility, r)\n",
    "\n",
    "print(f'Put price: {round(putPrice, 5)}')\n",
    "print(f'Put Delta: {round(putDelta, 5)}')\n",
    "print(f'Put Gamma: {round(putGamma, 5)}')\n",
    "print(f'Put Vega: {round(putVega, 5)}')\n",
    "print(f'Put Theta: {round(putTheta, 5)}')\n",
    "print(f'Put Rho: {round(putRho, 5)}')"
   ]
  },
  {
   "cell_type": "markdown",
   "metadata": {},
   "source": [
    "## MonteCarlo + Finite Difference Method"
   ]
  },
  {
   "cell_type": "code",
   "execution_count": 9,
   "metadata": {},
   "outputs": [],
   "source": [
    "from random import random"
   ]
  },
  {
   "cell_type": "code",
   "execution_count": 10,
   "metadata": {},
   "outputs": [],
   "source": [
    "def GetOneGaussianByBoxMuller():\n",
    "    sizeSquared = 1\n",
    "    while sizeSquared >= 1.0:\n",
    "        x = 2.0*random() - 1\n",
    "        y = 2.0*random() - 1\n",
    "        sizeSquared = x*x + y*y\n",
    "    \n",
    "    result = x*sqrt(-2*log(sizeSquared)/sizeSquared)\n",
    "    return result"
   ]
  },
  {
   "cell_type": "code",
   "execution_count": 11,
   "metadata": {},
   "outputs": [],
   "source": [
    "def SimpleMonteCarloSpot(Expiry, Strike, Spot, Vol, r, deltaSpot, priceSp, priceS, priceSm, NumberOfPaths, OptionType):\n",
    "    variance = Vol*Vol*Expiry\n",
    "    rootVariance = sqrt(variance)\n",
    "    itoCorrection = -0.5*variance\n",
    "    \n",
    "    SpAdjust = (Spot+deltaSpot)*exp(r*Expiry + itoCorrection)\n",
    "    SAdjust = Spot*exp(r*Expiry + itoCorrection)\n",
    "    SmAdjust = (Spot-deltaSpot)*exp(r*Expiry + itoCorrection)\n",
    "\n",
    "    SpCur = 0\n",
    "    SCur = 0\n",
    "    SmCur = 0\n",
    "\n",
    "    payoffSumP = 0\n",
    "    payoffSum = 0\n",
    "    payoffSumM = 0\n",
    "    \n",
    "    if OptionType == \"call\":\n",
    "        for i in range(NumberOfPaths):\n",
    "            thisGaussian = GetOneGaussianByBoxMuller()\n",
    "            SpCur = SpAdjust * exp(rootVariance*thisGaussian)\n",
    "            SCur = SAdjust * exp(rootVariance*thisGaussian)\n",
    "            SmCur = SmAdjust * exp(rootVariance*thisGaussian)\n",
    "\n",
    "            payoffSumP += max(SpCur - Strike, 0)\n",
    "            payoffSum += max(SCur - Strike, 0)\n",
    "            payoffSumM += max(SmCur - Strike, 0)\n",
    "\n",
    "    elif OptionType == \"put\":\n",
    "        for i in range(NumberOfPaths):\n",
    "            thisGaussian = GetOneGaussianByBoxMuller()\n",
    "            SpCur = SpAdjust * exp(rootVariance*thisGaussian)\n",
    "            SCur = SAdjust * exp(rootVariance*thisGaussian)\n",
    "            SmCur = SmAdjust * exp(rootVariance*thisGaussian)\n",
    "\n",
    "            payoffSumP += max(Strike - SpCur, 0)\n",
    "            payoffSum += max(Strike - SCur, 0)\n",
    "            payoffSumM += max(Strike - SmCur, 0)\n",
    "            \n",
    "    priceSp = (payoffSumP/NumberOfPaths) * exp(-r*Expiry)\n",
    "    priceS = (payoffSum/NumberOfPaths) * exp(-r*Expiry)\n",
    "    priceSm = (payoffSumM/NumberOfPaths) * exp(-r*Expiry)\n",
    "        \n",
    "    return priceSp, priceS, priceSm"
   ]
  },
  {
   "cell_type": "code",
   "execution_count": 12,
   "metadata": {},
   "outputs": [],
   "source": [
    "def SimpleMonteCarloVol(Expiry, Strike, Spot, Vol, r, deltaVol, priceVolp, priceVol, NumberOfPaths, OptionType):\n",
    "    variancePAdjust = (Vol+deltaVol)*(Vol+deltaVol)*Expiry\n",
    "    variance = Vol*Vol*Expiry\n",
    "    rootVarianceP = sqrt(variancePAdjust)\n",
    "    rootVariance = sqrt(variance)\n",
    "    itoCorrectionP = -0.5*variancePAdjust\n",
    "    itoCorrection = -0.5*variance\n",
    "    \n",
    "    thisSpotP = Spot*exp(r*Expiry + itoCorrectionP)\n",
    "    thisSpot = Spot*exp(r*Expiry + itoCorrection)\n",
    "\n",
    "    SpCur = 0\n",
    "    SCur = 0\n",
    "\n",
    "    payoffSumP = 0\n",
    "    payoffSum = 0\n",
    "    \n",
    "    if OptionType == \"call\":\n",
    "        for i in range(NumberOfPaths):\n",
    "            thisGaussian = GetOneGaussianByBoxMuller()\n",
    "            SpCur = thisSpotP * exp(rootVarianceP*thisGaussian)\n",
    "            SCur = thisSpot * exp(rootVariance*thisGaussian)\n",
    "\n",
    "            payoffSumP += max(SpCur - Strike, 0)\n",
    "            payoffSum += max(SCur - Strike, 0)\n",
    "\n",
    "    elif OptionType == \"put\":\n",
    "        for i in range(NumberOfPaths):\n",
    "            thisGaussian = GetOneGaussianByBoxMuller()\n",
    "            SpCur = thisSpotP * exp(rootVarianceP*thisGaussian)\n",
    "            SCur = thisSpot * exp(rootVariance*thisGaussian)\n",
    "\n",
    "            payoffSumP += max(Strike - SpCur, 0)\n",
    "            payoffSum += max(Strike - SCur, 0)\n",
    "            \n",
    "    priceVolp = (payoffSumP/NumberOfPaths) * exp(-r*Expiry)\n",
    "    priceVol = (payoffSum/NumberOfPaths) * exp(-r*Expiry)\n",
    "        \n",
    "    return priceVolp, priceVol"
   ]
  },
  {
   "cell_type": "code",
   "execution_count": 13,
   "metadata": {},
   "outputs": [],
   "source": [
    "def SimpleMonteCarloTime(Expiry, Strike, Spot, Vol, r, deltaTime, priceTimep, priceTime, NumberOfPaths, OptionType):\n",
    "    variancePAdjust = Vol*Vol*(Expiry+deltaTime)\n",
    "    variance = Vol*Vol*Expiry\n",
    "    rootVarianceP = sqrt(variancePAdjust)\n",
    "    rootVariance = sqrt(variance)\n",
    "    itoCorrectionP = -0.5*variancePAdjust\n",
    "    itoCorrection = -0.5*variance\n",
    "    \n",
    "    thisSpotP = Spot*exp(r*(Expiry+deltaTime) + itoCorrectionP)\n",
    "    thisSpot = Spot*exp(r*Expiry + itoCorrection)\n",
    "\n",
    "    SpCur = 0\n",
    "    SCur = 0\n",
    "\n",
    "    payoffSumP = 0\n",
    "    payoffSum = 0\n",
    "    \n",
    "    if OptionType == \"call\":\n",
    "        for i in range(NumberOfPaths):\n",
    "            thisGaussian = GetOneGaussianByBoxMuller()\n",
    "            SpCur = thisSpotP * exp(rootVarianceP*thisGaussian)\n",
    "            SCur = thisSpot * exp(rootVariance*thisGaussian)\n",
    "\n",
    "            payoffSumP += max(SpCur - Strike, 0)\n",
    "            payoffSum += max(SCur - Strike, 0)\n",
    "\n",
    "    elif OptionType == \"put\":\n",
    "        for i in range(NumberOfPaths):\n",
    "            thisGaussian = GetOneGaussianByBoxMuller()\n",
    "            SpCur = thisSpotP * exp(rootVarianceP*thisGaussian)\n",
    "            SCur = thisSpot * exp(rootVariance*thisGaussian)\n",
    "\n",
    "            payoffSumP += max(Strike - SpCur, 0)\n",
    "            payoffSum += max(Strike - SCur, 0)\n",
    "            \n",
    "    priceTimep = (payoffSumP/NumberOfPaths) * exp(-r*(Expiry+deltaTime))\n",
    "    priceTime = (payoffSum/NumberOfPaths) * exp(-r*Expiry)\n",
    "        \n",
    "    return priceTimep, priceTime"
   ]
  },
  {
   "cell_type": "code",
   "execution_count": 14,
   "metadata": {},
   "outputs": [],
   "source": [
    "def SimpleMonteCarloRate(Expiry, Strike, Spot, Vol, r, deltaRate, priceRatep, priceRate, NumberOfPaths, OptionType):\n",
    "    variance = Vol*Vol*Expiry\n",
    "    rootVariance = sqrt(variance)\n",
    "    itoCorrection = -0.5*variance\n",
    "    \n",
    "    thisSpotP = Spot*exp((r+deltaRate)*Expiry + itoCorrection)\n",
    "    thisSpot = Spot*exp(r*Expiry + itoCorrection)\n",
    "\n",
    "    SpCur = 0\n",
    "    SCur = 0\n",
    "\n",
    "    payoffSumP = 0\n",
    "    payoffSum = 0\n",
    "    \n",
    "    if OptionType == \"call\":\n",
    "        for i in range(NumberOfPaths):\n",
    "            thisGaussian = GetOneGaussianByBoxMuller()\n",
    "            SpCur = thisSpotP * exp(rootVariance*thisGaussian)\n",
    "            SCur = thisSpot * exp(rootVariance*thisGaussian)\n",
    "\n",
    "            payoffSumP += max(SpCur - Strike, 0)\n",
    "            payoffSum += max(SCur - Strike, 0)\n",
    "\n",
    "    elif OptionType == \"put\":\n",
    "        for i in range(NumberOfPaths):\n",
    "            thisGaussian = GetOneGaussianByBoxMuller()\n",
    "            SpCur = thisSpotP * exp(rootVariance*thisGaussian)\n",
    "            SCur = thisSpot * exp(rootVariance*thisGaussian)\n",
    "\n",
    "            payoffSumP += max(Strike - SpCur, 0)\n",
    "            payoffSum += max(Strike - SCur, 0)\n",
    "            \n",
    "    priceRatep = (payoffSumP/NumberOfPaths) * exp(-(r+deltaRate)*Expiry)\n",
    "    priceRate = (payoffSum/NumberOfPaths) * exp(-r*Expiry)\n",
    "        \n",
    "    return priceRatep, priceRate"
   ]
  },
  {
   "cell_type": "code",
   "execution_count": 15,
   "metadata": {},
   "outputs": [],
   "source": [
    "def DeltaMonteCarlo(Expiry, Strike, Spot, Vol, r, deltaSpot, NumberOfPaths, OptionType):\n",
    "    priceSp = 0\n",
    "    priceS = 0\n",
    "    priceSm = 0\n",
    "    \n",
    "    price = SimpleMonteCarloSpot(Expiry, Strike, Spot, Vol, r, deltaSpot, priceSp, priceS, priceSm, NumberOfPaths, OptionType)\n",
    "    return ((price[0] - price[1])/deltaSpot)"
   ]
  },
  {
   "cell_type": "code",
   "execution_count": 16,
   "metadata": {},
   "outputs": [],
   "source": [
    "def GammaMonteCarlo(Expiry, Strike, Spot, Vol, r, deltaSpot, NumberOfPaths, OptionType):\n",
    "    priceSp = 0\n",
    "    priceS = 0\n",
    "    priceSm = 0\n",
    "    \n",
    "    price = SimpleMonteCarloSpot(Expiry, Strike, Spot, Vol, r, deltaSpot, priceSp, priceS, priceSm, NumberOfPaths, OptionType)\n",
    "    return (price[0] - 2*price[1] + price[2])/(deltaSpot*deltaSpot)"
   ]
  },
  {
   "cell_type": "code",
   "execution_count": 17,
   "metadata": {},
   "outputs": [],
   "source": [
    "def VegaMonteCarlo(Expiry, Strike, Spot, Vol, r, deltaVol, NumberOfPaths, OptionType):\n",
    "    priceVolp = 0\n",
    "    priceVol = 0\n",
    "    \n",
    "    price = SimpleMonteCarloVol(Expiry, Strike, Spot, Vol, r, deltaVol, priceVolp, priceVol, NumberOfPaths, OptionType)\n",
    "    return ((price[0] - price[1])/deltaVol)"
   ]
  },
  {
   "cell_type": "code",
   "execution_count": 18,
   "metadata": {},
   "outputs": [],
   "source": [
    "def ThetaMonteCarlo(Expiry, Strike, Spot, Vol, r, deltaTime, NumberOfPaths, OptionType):\n",
    "    priceTimep = 0\n",
    "    priceTime = 0\n",
    "    \n",
    "    price = SimpleMonteCarloTime(Expiry, Strike, Spot, Vol, r, deltaTime, priceTimep, priceTime, NumberOfPaths, OptionType)\n",
    "    return (-(price[0] - price[1])/deltaTime)"
   ]
  },
  {
   "cell_type": "code",
   "execution_count": 19,
   "metadata": {},
   "outputs": [],
   "source": [
    "def RhoMonteCarlo(Expiry, Strike, Spot, Vol, r, deltaRate, NumberOfPaths, OptionType):\n",
    "    priceRatep = 0\n",
    "    priceRate = 0\n",
    "    \n",
    "    price = SimpleMonteCarloRate(Expiry, Strike, Spot, Vol, r, deltaRate, priceRatep, priceRate, NumberOfPaths, OptionType)\n",
    "    return ((price[0] - price[1])/deltaRate)"
   ]
  },
  {
   "cell_type": "code",
   "execution_count": 20,
   "metadata": {},
   "outputs": [],
   "source": [
    "Expiry = 1\n",
    "Strike = 100\n",
    "Spot = 100\n",
    "Volatility = 0.2\n",
    "r = 0.05\n",
    "deltaSpot = 0.001\n",
    "deltaVol = 0.001\n",
    "deltaTime = 0.001\n",
    "deltaRate = 0.001\n",
    "NumberOfPaths = 10000000\n",
    "CallOption = \"call\"\n",
    "PutOption = \"put\""
   ]
  },
  {
   "cell_type": "code",
   "execution_count": 21,
   "metadata": {},
   "outputs": [
    {
     "name": "stdout",
     "output_type": "stream",
     "text": [
      "Call Delta: 0.636945\n",
      "Call Gamma: 0.018367\n",
      "Call Vega: 37.605031\n",
      "Call Theta: -6.414979\n",
      "Call Rho: 53.308422\n",
      "Put Delta: -0.363395\n",
      "Put Gamma: 0.020236\n",
      "Put Vega: 37.503961\n",
      "Put Theta: -1.656607\n",
      "Put Rho: -41.761428\n"
     ]
    }
   ],
   "source": [
    "callDelta = DeltaMonteCarlo(Expiry, Strike, Spot, Volatility, r, deltaSpot, NumberOfPaths, CallOption)\n",
    "callGamma = GammaMonteCarlo(Expiry, Strike, Spot, Volatility, r, deltaSpot, NumberOfPaths, CallOption)\n",
    "callVega = VegaMonteCarlo(Expiry, Strike, Spot, Volatility, r, deltaVol, NumberOfPaths, CallOption)\n",
    "callTheta = ThetaMonteCarlo(Expiry, Strike, Spot, Volatility, r, deltaTime, NumberOfPaths, CallOption)\n",
    "callRho = RhoMonteCarlo(Expiry, Strike, Spot, Volatility, r, deltaRate, NumberOfPaths, CallOption)\n",
    "\n",
    "putDelta = DeltaMonteCarlo(Expiry, Strike, Spot, Volatility, r, deltaSpot, NumberOfPaths, PutOption)\n",
    "putGamma = GammaMonteCarlo(Expiry, Strike, Spot, Volatility, r, deltaSpot, NumberOfPaths, PutOption)\n",
    "putVega = VegaMonteCarlo(Expiry, Strike, Spot, Volatility, r, deltaVol, NumberOfPaths, PutOption)\n",
    "putTheta = ThetaMonteCarlo(Expiry, Strike, Spot, Volatility, r, deltaTime, NumberOfPaths, PutOption)\n",
    "putRho = RhoMonteCarlo(Expiry, Strike, Spot, Volatility, r, deltaRate, NumberOfPaths, PutOption)\n",
    "\n",
    "print(f'Call Delta: {round(callDelta, 6)}')\n",
    "print(f'Call Gamma: {round(callGamma, 6)}')\n",
    "print(f'Call Vega: {round(callVega, 6)}')\n",
    "print(f'Call Theta: {round(callTheta, 6)}')\n",
    "print(f'Call Rho: {round(callRho, 6)}')\n",
    "\n",
    "print(f'Put Delta: {round(putDelta, 6)}')\n",
    "print(f'Put Gamma: {round(putGamma, 6)}')\n",
    "print(f'Put Vega: {round(putVega, 6)}')\n",
    "print(f'Put Theta: {round(putTheta, 6)}')\n",
    "print(f'Put Rho: {round(putRho, 6)}')"
   ]
  }
 ],
 "metadata": {
  "kernelspec": {
   "display_name": "Python 3",
   "language": "python",
   "name": "python3"
  },
  "language_info": {
   "codemirror_mode": {
    "name": "ipython",
    "version": 3
   },
   "file_extension": ".py",
   "mimetype": "text/x-python",
   "name": "python",
   "nbconvert_exporter": "python",
   "pygments_lexer": "ipython3",
   "version": "3.8.3"
  }
 },
 "nbformat": 4,
 "nbformat_minor": 4
}
