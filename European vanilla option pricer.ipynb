{
 "cells": [
  {
   "cell_type": "markdown",
   "metadata": {},
   "source": [
    "# European vanilla option pricing"
   ]
  },
  {
   "cell_type": "markdown",
   "metadata": {},
   "source": [
    "This notebook aims to be a simple tool for pricing european options through a Monte Carlo simulation. The code is based on that developed in **Joshi, Mark S. (2008) *C++ Design Patterns and Derivatives Pricing*. New York: Cambridge University Press**, though adapted to Python language."
   ]
  },
  {
   "cell_type": "markdown",
   "metadata": {},
   "source": [
    "**Disclaimer: I am not the owner of the piece of code shown below. For more information, refer to the book mentioned before.**"
   ]
  },
  {
   "cell_type": "markdown",
   "metadata": {},
   "source": [
    "European options are derivatives that, upon payment of a premium, give the holder the right, but not the obligation, to buy or sell the underlying at maturity of the option."
   ]
  },
  {
   "cell_type": "markdown",
   "metadata": {},
   "source": [
    "The price evolution of a stock can be seen as an Itô process ruled by the following stochastic equation: $$dS_t = \\mu S_tdt + \\sigma S_tdz$$ "
   ]
  },
  {
   "cell_type": "markdown",
   "metadata": {},
   "source": [
    "where $\\mu$ is the stock's expected rate of return and $\\sigma$ is the volatility of the stock price. Now, using Itô's lemma on the previous expression,"
   ]
  },
  {
   "cell_type": "markdown",
   "metadata": {},
   "source": [
    "$$G=G\\left(S_t,t\\right)$$"
   ]
  },
  {
   "cell_type": "markdown",
   "metadata": {},
   "source": [
    "$$ dG = \\left[\\frac{\\partial{G}}{\\partial{S_t}}\\mu S_t+\\frac{\\partial{G}}{\\partial{t}}+\\frac{1}{2}\\frac{\\partial{}}{\\partial{S_t}}\\left(\\frac{\\partial{G}}{\\partial{S_t}}\\right)\\sigma^2 S_t^2 \\right]dt+\\left(\\frac{\\partial{G}}{\\partial{S_t}}\\sigma S_t \\right)dz$$"
   ]
  },
  {
   "cell_type": "markdown",
   "metadata": {},
   "source": [
    "and assuming a lognormal distribution for the stock price,"
   ]
  },
  {
   "cell_type": "markdown",
   "metadata": {},
   "source": [
    "$$ G\\left(S_t, t\\right)=\\ln S_t$$"
   ]
  },
  {
   "cell_type": "markdown",
   "metadata": {},
   "source": [
    "$$dG=\\left[\\frac{1}{S_t}\\mu S_t+\\frac{1}{2}\\left(\\frac{-1}{S_t^2}\\right)\\sigma^2 S_t^2\\right]dt+\\frac{1}{S_t}\\sigma S_tdz$$"
   ]
  },
  {
   "cell_type": "markdown",
   "metadata": {},
   "source": [
    "$$dG=\\left(\\mu-\\frac{1}{2}\\sigma^2\\right)dt+\\sigma dz$$"
   ]
  },
  {
   "cell_type": "markdown",
   "metadata": {},
   "source": [
    "$$\\ln S_t-\\ln S_0=\\left(\\mu-\\frac{1}{2}\\sigma^2\\right)T+\\sigma \\varepsilon \\sqrt{T}$$\n",
    "where $\\varepsilon \\sim N\\left(0,1\\right)$"
   ]
  },
  {
   "cell_type": "markdown",
   "metadata": {},
   "source": [
    "We can rewrite this expression as:\n",
    "$$S_t=S_0e^{\\left(\\mu-\\frac{1}{2}\\sigma^2\\right)T+\\sigma \\varepsilon \\sqrt{T}}$$"
   ]
  },
  {
   "cell_type": "markdown",
   "metadata": {},
   "source": [
    "Assuming that the expected rate of return $\\mu$ is the risk-free rate $r$ and under the risk-neutral hypothesis, the value of a vanilla option is therefore equal to the discounted expected payoff:\n",
    "$$e^{-rT}E \\left[f\\left(S_0e^{\\left(r-\\frac{1}{2}\\sigma^2\\right)T+\\sigma \\varepsilon \\sqrt{T}}\\right)\\right] $$\n",
    "and $f$ is $\\left[S_t-K\\right]^+$ in case of a call and $\\left[K-S_t\\right]^+$ if it's a put."
   ]
  },
  {
   "cell_type": "markdown",
   "metadata": {},
   "source": [
    "With the Monte Carlo algorithm, we can get the price of an option by drawing a random number from an $N(0,1)$ distribution."
   ]
  },
  {
   "cell_type": "code",
   "execution_count": 1,
   "metadata": {},
   "outputs": [],
   "source": [
    "from random import random\n",
    "from math import exp, sqrt, log"
   ]
  },
  {
   "cell_type": "code",
   "execution_count": 2,
   "metadata": {},
   "outputs": [],
   "source": [
    "def GetOneGaussianBySummation():\n",
    "    result = 0\n",
    "    for j in range(12):\n",
    "        result += random()\n",
    "    \n",
    "    result -= 6\n",
    "    return result"
   ]
  },
  {
   "cell_type": "code",
   "execution_count": 3,
   "metadata": {},
   "outputs": [],
   "source": [
    "def GetOneGaussianByBoxMuller():\n",
    "    sizeSquared = 1\n",
    "    while sizeSquared >= 1.0:\n",
    "        x = 2.0*random() - 1\n",
    "        y = 2.0*random() - 1\n",
    "        sizeSquared = x*x + y*y\n",
    "    \n",
    "    result = x*sqrt(-2*log(sizeSquared)/sizeSquared)\n",
    "    return result"
   ]
  },
  {
   "cell_type": "code",
   "execution_count": 4,
   "metadata": {},
   "outputs": [],
   "source": [
    "def SimpleMonteCarlo1(Expiry, Strike, Spot, Vol, r, NumberOfPaths, OptionType):\n",
    "    variance = Vol*Vol*Expiry\n",
    "    rootVariance = sqrt(variance)\n",
    "    itoCorrection = -0.5*variance\n",
    "    \n",
    "    movedSpot = Spot*exp(r*Expiry + itoCorrection)\n",
    "    runningSum = 0\n",
    "    \n",
    "    if OptionType == 'call':\n",
    "        for i in range(NumberOfPaths):\n",
    "            thisGaussian = GetOneGaussianByBoxMuller()\n",
    "            thisSpot = movedSpot*exp(rootVariance*thisGaussian)\n",
    "            thisPayoff = thisSpot - Strike\n",
    "            if(thisPayoff<0):\n",
    "                thisPayoff=0\n",
    "            runningSum += thisPayoff\n",
    "\n",
    "    elif OptionType == 'put':\n",
    "        for i in range(NumberOfPaths):\n",
    "            thisGaussian = GetOneGaussianByBoxMuller()\n",
    "            thisSpot = movedSpot*exp(rootVariance*thisGaussian)\n",
    "            thisPayoff = Strike - thisSpot\n",
    "            if(thisPayoff<0):\n",
    "                thisPayoff=0\n",
    "            runningSum += thisPayoff\n",
    "    \n",
    "    mean = runningSum / NumberOfPaths\n",
    "    mean *= exp(-r*Expiry)\n",
    "    return mean"
   ]
  },
  {
   "cell_type": "code",
   "execution_count": 5,
   "metadata": {
    "scrolled": true
   },
   "outputs": [
    {
     "name": "stdout",
     "output_type": "stream",
     "text": [
      "Call price: 10.44869, for 1000000 paths\n",
      "Put price: 5.58144, for 1000000 paths\n"
     ]
    }
   ],
   "source": [
    "Expiry = 1\n",
    "Strike = 100\n",
    "Spot = 100\n",
    "Volatility = 0.2\n",
    "r = 0.05\n",
    "NumberOfIterations = 1000000\n",
    "CallOption = \"call\"\n",
    "PutOption = \"put\"\n",
    "\n",
    "callPrice = SimpleMonteCarlo1(Expiry, Strike, Spot, Volatility, r, NumberOfIterations, CallOption)\n",
    "print(f'Call price: {round(callPrice, 5)}, for {NumberOfIterations} paths')\n",
    "putPrice = SimpleMonteCarlo1(Expiry, Strike, Spot, Volatility, r, NumberOfIterations, PutOption)\n",
    "print(f'Put price: {round(putPrice, 5)}, for {NumberOfIterations} paths')"
   ]
  }
 ],
 "metadata": {
  "kernelspec": {
   "display_name": "Python 3",
   "language": "python",
   "name": "python3"
  },
  "language_info": {
   "codemirror_mode": {
    "name": "ipython",
    "version": 3
   },
   "file_extension": ".py",
   "mimetype": "text/x-python",
   "name": "python",
   "nbconvert_exporter": "python",
   "pygments_lexer": "ipython3",
   "version": "3.8.3"
  }
 },
 "nbformat": 4,
 "nbformat_minor": 4
}
