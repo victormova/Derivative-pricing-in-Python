{
 "cells": [
  {
   "cell_type": "markdown",
   "metadata": {},
   "source": [
    "# Black-Scholes analytic European option pricing"
   ]
  },
  {
   "cell_type": "markdown",
   "metadata": {},
   "source": [
    "This notebook aims to be a simple tool for pricing european options through the Black-Scholes formula. The code is based on that developed in **Joshi, Mark S. (2008) *C++ Design Patterns and Derivatives Pricing*. New York: Cambridge University Press**, though adapted to Python language."
   ]
  },
  {
   "cell_type": "markdown",
   "metadata": {},
   "source": [
    "**Disclaimer: I am not the owner of the piece of code shown below. For more information, refer to the book mentioned before.**"
   ]
  },
  {
   "cell_type": "markdown",
   "metadata": {},
   "source": [
    "European options are derivatives that, upon payment of a premium, give the holder the right, but not the obligation, to buy or sell the underlying at maturity of the option."
   ]
  },
  {
   "cell_type": "markdown",
   "metadata": {},
   "source": [
    "The solution to the Black-Scholes partial differential equation for a European option is: $$c_0=S_0N(d_1)-Ke^{-rT}N(d_2)$$ for the call and $$p_0=Ke^{-rT}N\\left(-d_2\\right)-S_0N\\left(-d_1\\right)$$ for the put, where $$d_1=\\frac{\\ln\\left(\\frac{S_0}{K}\\right)+\\left(r+\\frac{\\sigma^2}{2}\\right)T}{\\sigma\\sqrt{T}}$$ and $$d_2=d_1-\\sigma\\sqrt{T}$$"
   ]
  },
  {
   "cell_type": "markdown",
   "metadata": {},
   "source": [
    "Recall that the standard normal probability density function is $$f(x)=\\frac{1}{\\sqrt{2\\pi}}e^{\\frac{-x^2}{2}}$$ and the cumulative distribution function is given by $$N(x)=\\int_{-\\infty}^{x} \\frac{1}{\\sqrt{2\\pi}}e^{\\frac{-x^2}{2}}\\, dx$$"
   ]
  },
  {
   "cell_type": "markdown",
   "metadata": {},
   "source": [
    "There are many numerical approximations for this function. In his book, Joshi proposes to use the inverse cumulative normal function via the Beasley-Springer/Moro approximation."
   ]
  },
  {
   "cell_type": "code",
   "execution_count": 1,
   "metadata": {},
   "outputs": [],
   "source": [
    "from math import exp, sqrt, log, pi"
   ]
  },
  {
   "cell_type": "code",
   "execution_count": 2,
   "metadata": {},
   "outputs": [],
   "source": [
    "def normpdf(x):\n",
    "    return (1.0/sqrt(2*pi)*exp(-0.5*x*x))"
   ]
  },
  {
   "cell_type": "code",
   "execution_count": 3,
   "metadata": {},
   "outputs": [],
   "source": [
    "def normcdf(x):\n",
    "    k = 1.0/(1.0 + 0.2316419*x)\n",
    "    ksum = k*(0.319381530 + k*(-0.356563782 + k*(1.781477937 + k*(-1.821255978 + 1.330274429*k))))\n",
    "    \n",
    "    if x >= 0.0:\n",
    "        return (1.0 - (1.0/sqrt(2*pi))*exp(-0.5*x*x) * ksum)\n",
    "    elif x < 0.0: \n",
    "        return 1.0 - normcdf(-x)"
   ]
  },
  {
   "cell_type": "code",
   "execution_count": 4,
   "metadata": {},
   "outputs": [],
   "source": [
    "def di(i, Expiry, Strike, Spot, Vol, r):\n",
    "    return (log(Spot/Strike) + (r + ((-1)**(i-1)*0.5*Vol*Vol)*Expiry)/(Vol*sqrt(Expiry)))"
   ]
  },
  {
   "cell_type": "code",
   "execution_count": 5,
   "metadata": {},
   "outputs": [],
   "source": [
    "def callPrice(Expiry, Strike, Spot, Vol, r):\n",
    "    return (Spot * normcdf(di(1, Expiry, Strike, Spot, Vol, r))-Strike*exp(-r*Expiry) * normcdf(di(2, Expiry, Strike, Spot, Vol, r)))"
   ]
  },
  {
   "cell_type": "code",
   "execution_count": 6,
   "metadata": {},
   "outputs": [],
   "source": [
    "def putPrice(Expiry, Strike, Spot, Vol, r):\n",
    "    return (-Spot*normcdf(-di(1, Expiry, Strike, Spot, Vol, r))+Spot*exp(-r*Expiry) * normcdf(-di(2, Expiry, Strike, Spot, Vol, r)))"
   ]
  },
  {
   "cell_type": "code",
   "execution_count": 7,
   "metadata": {},
   "outputs": [
    {
     "name": "stdout",
     "output_type": "stream",
     "text": [
      "Call price: 10.45058\n",
      "Put price: 5.57352\n"
     ]
    }
   ],
   "source": [
    "Expiry = 1\n",
    "Strike = 100\n",
    "Spot = 100\n",
    "Volatility = 0.2\n",
    "r = 0.05\n",
    "\n",
    "callPrice = callPrice(Expiry, Strike, Spot, Volatility, r)\n",
    "print(f'Call price: {round(callPrice, 5)}')\n",
    "putPrice = putPrice(Expiry, Strike, Spot, Volatility, r)\n",
    "print(f'Put price: {round(putPrice, 5)}')"
   ]
  }
 ],
 "metadata": {
  "kernelspec": {
   "display_name": "Python 3",
   "language": "python",
   "name": "python3"
  },
  "language_info": {
   "codemirror_mode": {
    "name": "ipython",
    "version": 3
   },
   "file_extension": ".py",
   "mimetype": "text/x-python",
   "name": "python",
   "nbconvert_exporter": "python",
   "pygments_lexer": "ipython3",
   "version": "3.8.3"
  }
 },
 "nbformat": 4,
 "nbformat_minor": 4
}
