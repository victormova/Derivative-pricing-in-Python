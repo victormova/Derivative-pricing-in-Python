{
 "cells": [
  {
   "cell_type": "markdown",
   "metadata": {},
   "source": [
    "# Trigeorgis binomial tree for European call options pricing"
   ]
  },
  {
   "cell_type": "markdown",
   "metadata": {},
   "source": [
    "When it comes to finding the price of a European option, the easiest way of proceeding is probably the Black-Scholes formula. However, with other types of derivatives, such as American options or other exotic products, there is no analytical way to calculate the price, and we must rely on other methods. One of them is running a Monte Carlo simulation and another is through binomial trees. In this little piece of code, we are computing the price of a European call through a **Trigeorgis tree with the JR approach**."
   ]
  },
  {
   "cell_type": "markdown",
   "metadata": {},
   "source": [
    "**Binomial trees** let us simulate possible future prices of the option's underlying stock at maturity and then, by discounting the expected payoff of the product through a backward procedure, we can obtain the present value of the option. The tricky point of this method is how we obtain the probabilities of the market going up or down in each time step in such a way that is consistent with the Black-Scholes model. There are several approaches to this, being the **Cox-Ross-Rubinstein (1979)** and the **Jarrow-Rud (1983)** the most known models."
   ]
  },
  {
   "cell_type": "markdown",
   "metadata": {},
   "source": [
    "The **Trigeorgis binomial model (1992)** is a method of recombining binomial trees that matches well with the assumptions of Black-Scholes, by assuming that the price of the underlying follows a lognormal distribution, and is also compatible with the CRR and JR approaches. This makes the tree additive instead of multiplicative and simplifies the calculus."
   ]
  },
  {
   "cell_type": "markdown",
   "metadata": {},
   "source": [
    "Let's denote the current spot price as $S_{00}$. At each node, the spot price of the underlying is:"
   ]
  },
  {
   "cell_type": "markdown",
   "metadata": {},
   "source": [
    "$$S_{ij}=Su^{j}d^{i-j}$$"
   ]
  },
  {
   "cell_type": "markdown",
   "metadata": {},
   "source": [
    "The *u* and *d* values, as well as $p_u$ and $p_d$ (probabilities of the price going up or down), under the JR approach in a Trigerogis tree are given by:"
   ]
  },
  {
   "cell_type": "markdown",
   "metadata": {},
   "source": [
    "$$\\Delta x_u = \\sqrt{\\sigma^2\\Delta t + \\nu^2\\Delta t^2}$$\n",
    "$$\\Delta x_d = -\\Delta x_u$$\n",
    "$$\\nu=r-\\frac{\\sigma^2}{2}$$\n",
    "$$u=e^{\\Delta x_u}$$\n",
    "$$d=e^{\\Delta x_d}$$\n",
    "$$p_u=\\frac{1}{2}+\\frac{\\nu \\Delta t}{2\\Delta x_u}$$\n",
    "$$p_d=1-p_u$$"
   ]
  },
  {
   "cell_type": "code",
   "execution_count": 1,
   "metadata": {},
   "outputs": [],
   "source": [
    "import numpy as np\n",
    "from math import sqrt,exp"
   ]
  },
  {
   "cell_type": "code",
   "execution_count": 2,
   "metadata": {},
   "outputs": [],
   "source": [
    "def trigTree_EuCall(K,T,S,sig,r,N):\n",
    "    dt=T/N\n",
    "    nu=r-0.5*sig**2\n",
    "    dxu=sqrt(sig**2*dt+nu**2*dt**2)\n",
    "    dxd=-dxu\n",
    "    u=exp(dxu)\n",
    "    d=exp(dxd)\n",
    "    pu=0.5+0.5*nu*dt/dxu\n",
    "    pd=1-pu\n",
    "    disc=exp(-r*dt)\n",
    "    \n",
    "    # Tree initialization\n",
    "    St=np.zeros((N+1,1))\n",
    "    for x in range(0,N+1):\n",
    "        St[x,0]=S*exp(N*dxd)\n",
    "    for y in range(1,N+1):\n",
    "        St[y,0]=St[y-1,0]*u/d\n",
    "    \n",
    "    # Payoff\n",
    "    C=np.zeros((N+1,1))\n",
    "    for z in range(0,N+1):\n",
    "        C[z,0]=max(St[z,0]-K,0)\n",
    "\n",
    "    for i in range(N,0,-1):\n",
    "        for j in range(0,i):\n",
    "            C[j,0]=disc*(pu*C[j+1,0]+pd*C[j,0])\n",
    "    return C[0,0]"
   ]
  },
  {
   "cell_type": "code",
   "execution_count": 3,
   "metadata": {},
   "outputs": [
    {
     "name": "stdout",
     "output_type": "stream",
     "text": [
      "Call price: 10.44863\n"
     ]
    }
   ],
   "source": [
    "K=100\n",
    "T=1\n",
    "S=100\n",
    "sig=0.2\n",
    "r=0.05\n",
    "N=1000\n",
    "\n",
    "callPrice=trigTree_EuCall(K,T,S,sig,r,N)\n",
    "print(f'Call price: {round(callPrice, 5)}')"
   ]
  }
 ],
 "metadata": {
  "kernelspec": {
   "display_name": "Python 3",
   "language": "python",
   "name": "python3"
  },
  "language_info": {
   "codemirror_mode": {
    "name": "ipython",
    "version": 3
   },
   "file_extension": ".py",
   "mimetype": "text/x-python",
   "name": "python",
   "nbconvert_exporter": "python",
   "pygments_lexer": "ipython3",
   "version": "3.8.3"
  }
 },
 "nbformat": 4,
 "nbformat_minor": 4
}
